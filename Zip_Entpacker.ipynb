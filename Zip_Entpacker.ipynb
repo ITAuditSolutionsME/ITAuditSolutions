{
 "cells": [
  {
   "cell_type": "code",
   "execution_count": 1,
   "id": "a4463a87-d0fc-45de-ac22-9638a20fe2fb",
   "metadata": {
    "tags": []
   },
   "outputs": [
    {
     "ename": "TypeError",
     "evalue": "expected str, bytes or os.PathLike object, not NoneType",
     "output_type": "error",
     "traceback": [
      "\u001b[1;31m---------------------------------------------------------------------------\u001b[0m",
      "\u001b[1;31mTypeError\u001b[0m                                 Traceback (most recent call last)",
      "Cell \u001b[1;32mIn[1], line 32\u001b[0m\n\u001b[0;32m     29\u001b[0m         \u001b[38;5;28;01mpass\u001b[39;00m\n\u001b[0;32m     31\u001b[0m \u001b[38;5;28;01mif\u001b[39;00m \u001b[38;5;18m__name__\u001b[39m \u001b[38;5;241m==\u001b[39m \u001b[38;5;124m\"\u001b[39m\u001b[38;5;124m__main__\u001b[39m\u001b[38;5;124m\"\u001b[39m:\n\u001b[1;32m---> 32\u001b[0m     main()\n",
      "Cell \u001b[1;32mIn[1], line 28\u001b[0m, in \u001b[0;36mmain\u001b[1;34m()\u001b[0m\n\u001b[0;32m     25\u001b[0m extracted_zips \u001b[38;5;241m=\u001b[39m []\n\u001b[0;32m     27\u001b[0m \u001b[38;5;66;03m# Extrahiere alle Zip-Dateien im angegebenen Verzeichnis und seinen Unterverzeichnissen\u001b[39;00m\n\u001b[1;32m---> 28\u001b[0m \u001b[38;5;28;01mwhile\u001b[39;00m extract_all_zips(source_directory, extracted_zips):\n\u001b[0;32m     29\u001b[0m     \u001b[38;5;28;01mpass\u001b[39;00m\n",
      "Cell \u001b[1;32mIn[1], line 12\u001b[0m, in \u001b[0;36mextract_all_zips\u001b[1;34m(directory, extracted_zips)\u001b[0m\n\u001b[0;32m     11\u001b[0m \u001b[38;5;28;01mdef\u001b[39;00m \u001b[38;5;21mextract_all_zips\u001b[39m(directory, extracted_zips):\n\u001b[1;32m---> 12\u001b[0m     \u001b[38;5;28;01mfor\u001b[39;00m root, dirs, files \u001b[38;5;129;01min\u001b[39;00m os\u001b[38;5;241m.\u001b[39mwalk(directory):\n\u001b[0;32m     13\u001b[0m         \u001b[38;5;28;01mfor\u001b[39;00m file \u001b[38;5;129;01min\u001b[39;00m files:\n\u001b[0;32m     14\u001b[0m             \u001b[38;5;28;01mif\u001b[39;00m file\u001b[38;5;241m.\u001b[39mlower()\u001b[38;5;241m.\u001b[39mendswith(\u001b[38;5;124m'\u001b[39m\u001b[38;5;124m.zip\u001b[39m\u001b[38;5;124m'\u001b[39m):\n",
      "File \u001b[1;32m<frozen os>:343\u001b[0m, in \u001b[0;36mwalk\u001b[1;34m(top, topdown, onerror, followlinks)\u001b[0m\n",
      "\u001b[1;31mTypeError\u001b[0m: expected str, bytes or os.PathLike object, not NoneType"
     ]
    }
   ],
   "source": [
    "import os\n",
    "import zipfile\n",
    "import sys\n",
    "from tkinter import simpledialog\n",
    "\n",
    "def unzip(zip_file, dest_directory):\n",
    "    with zipfile.ZipFile(zip_file, 'r') as zip_ref:\n",
    "        zip_ref.extractall(dest_directory)\n",
    "    print(\"Zip-Datei erfolgreich extrahiert:\", zip_file)\n",
    "\n",
    "def extract_all_zips(directory, extracted_zips):\n",
    "    for root, dirs, files in os.walk(directory):\n",
    "        for file in files:\n",
    "            if file.lower().endswith('.zip'):\n",
    "                zip_file = os.path.join(root, file)\n",
    "                if zip_file not in extracted_zips:\n",
    "                    unzip(zip_file, os.path.dirname(zip_file))\n",
    "                    extracted_zips.append(zip_file)\n",
    "                    return True\n",
    "    return False\n",
    "\n",
    "def main():\n",
    "    # source_directory = r\"Z:\\Arbeitsgruppen\\IT Audit Solutions\\!Mandanten\\Kiesel\\JAP 2023\\Mandantendaten\\GDPdU\\Kiesel GmbH\"  # Passe den Pfad zum Verzeichnis an, das die Unterordner mit den Zip-Dateien enthält\n",
    "    source_directory = simpledialog.askstring(\"Input\", \"Wie lautet der Pfad in welchem entpackt werden soll?\")\n",
    "    extracted_zips = []\n",
    "\n",
    "    # Extrahiere alle Zip-Dateien im angegebenen Verzeichnis und seinen Unterverzeichnissen\n",
    "    while extract_all_zips(source_directory, extracted_zips):\n",
    "        pass\n",
    "\n",
    "if __name__ == \"__main__\":\n",
    "    main()\n"
   ]
  },
  {
   "cell_type": "code",
   "execution_count": null,
   "id": "eb88d281-ff61-4d0c-956a-96ce90b367a0",
   "metadata": {},
   "outputs": [],
   "source": []
  }
 ],
 "metadata": {
  "kernelspec": {
   "display_name": "Python 3 (ipykernel)",
   "language": "python",
   "name": "python3"
  },
  "language_info": {
   "codemirror_mode": {
    "name": "ipython",
    "version": 3
   },
   "file_extension": ".py",
   "mimetype": "text/x-python",
   "name": "python",
   "nbconvert_exporter": "python",
   "pygments_lexer": "ipython3",
   "version": "3.11.4"
  }
 },
 "nbformat": 4,
 "nbformat_minor": 5
}
