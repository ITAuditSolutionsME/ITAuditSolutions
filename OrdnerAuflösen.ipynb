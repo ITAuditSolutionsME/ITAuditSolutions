{
 "cells": [
  {
   "cell_type": "markdown",
   "id": "19429365-7279-42c3-b3f3-512027989318",
   "metadata": {},
   "source": [
    "# Alle Datein in mehreren Ordnern in einen zusammenfassen"
   ]
  },
  {
   "cell_type": "markdown",
   "id": "348ab260-0345-426c-9894-837c7ab3cf90",
   "metadata": {},
   "source": [
    "### Funktion:\n",
    "#### - Auflösung aller Unterverzeichnisse\n",
    "#### - Zusammenführung aller Dateien aus den Unterverzeichnissen in einem anderen Verzeichnis\n",
    "#### - Dateien werden kopiert, nicht gelöscht\n",
    "#### - Es werden nur Dateien kopiert, deren Dateiname mit einer Zahl beginnt und das Wort „STAMM“ nicht enthält"
   ]
  },
  {
   "cell_type": "markdown",
   "id": "d9f79c65-6d50-4b7b-851c-e3ba63c9bce5",
   "metadata": {},
   "source": [
    "### UseCase:\n",
    "#### Wenn Daten in einem Ordner auf mehrere Unterordner verteilt sind, kann dieses Programm alle Dateien aus den Unterordnern in einem vorgegebenen Zielordner speichern, sodass alle Dateien an einem Ort zusammengeführt werden.\r\n"
   ]
  },
  {
   "cell_type": "code",
   "execution_count": 2,
   "id": "7842dd45-ca2b-40e7-9f53-2adc11b80b0a",
   "metadata": {
    "tags": []
   },
   "outputs": [
    {
     "name": "stdout",
     "output_type": "stream",
     "text": [
      "Ungültiger Quell- oder Ausgabepfad.\n"
     ]
    }
   ],
   "source": [
    "import os\n",
    "import shutil\n",
    "import re\n",
    "import tkinter as tk\n",
    "from tkinter import simpledialog\n",
    "\n",
    "def main():\n",
    "    # Initialisierung des GUI-Fensters\n",
    "    root = tk.Tk()\n",
    "    root.withdraw()  # Versteckt das Hauptfenster\n",
    "\n",
    "    # Abfrage des Benutzers nach dem Quell- und Ausgabeverzeichnis\n",
    "    source_directory = simpledialog.askstring(\"Input\", \"Eingabe Pfad?\")\n",
    "    output_directory = simpledialog.askstring(\"Input\", \"Ausgabe Pfad?\")\n",
    "    # string_ignore = simpledialog.askstring(\"Input\", \"Sollen nur Dateien kopiert werden, welche ein bestimmten String enthalten? Z.B. Stamm\")\n",
    "    # int_ignore = simpledialog.askstring(\"Input\", \"Sollen nur Dateien kopiert werden, welche mit einer Zahl beginnen\")\n",
    "\n",
    "    if not source_directory or not output_directory:\n",
    "        print(\"Ungültiger Quell- oder Ausgabepfad.\")\n",
    "        return\n",
    "\n",
    "    source_dir = os.path.abspath(source_directory)\n",
    "    output_dir = os.path.abspath(output_directory)\n",
    "\n",
    "    if not os.path.exists(source_dir) or not os.path.isdir(source_dir):\n",
    "        print(\"Quellverzeichnis existiert nicht oder ist kein Verzeichnis.\")\n",
    "        return\n",
    "\n",
    "    if not os.path.exists(output_dir) or not os.path.isdir(output_dir):\n",
    "        print(\"Ausgabeverzeichnis existiert nicht oder ist kein Verzeichnis.\")\n",
    "        return\n",
    "\n",
    "    copy_filtered_folder_contents(source_dir, output_dir)\n",
    "\n",
    "def copy_filtered_folder_contents(source_dir, output_dir):\n",
    "    for root, dirs, files in os.walk(source_dir):\n",
    "        for file_name in files:\n",
    "            if re.match(r'\\d.*', file_name) and 'STAMM' not in file_name:\n",
    "                source_file = os.path.join(root, file_name)\n",
    "                output_file = os.path.join(output_dir, file_name)\n",
    "                try:\n",
    "                    shutil.copy2(source_file, output_file)\n",
    "                    print(f\"Datei kopiert: {output_file}\")\n",
    "                except IOError as e:\n",
    "                    print(f\"Fehler beim Kopieren der Datei: {e}\")\n",
    "\n",
    "if __name__ == \"__main__\":\n",
    "    main()\n"
   ]
  },
  {
   "cell_type": "code",
   "execution_count": null,
   "id": "ade80a2a-526d-4216-bfc8-36e27008e260",
   "metadata": {},
   "outputs": [],
   "source": []
  }
 ],
 "metadata": {
  "kernelspec": {
   "display_name": "Python 3 (ipykernel)",
   "language": "python",
   "name": "python3"
  },
  "language_info": {
   "codemirror_mode": {
    "name": "ipython",
    "version": 3
   },
   "file_extension": ".py",
   "mimetype": "text/x-python",
   "name": "python",
   "nbconvert_exporter": "python",
   "pygments_lexer": "ipython3",
   "version": "3.11.4"
  }
 },
 "nbformat": 4,
 "nbformat_minor": 5
}
