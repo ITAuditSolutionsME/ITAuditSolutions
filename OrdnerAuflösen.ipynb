{
 "cells": [
  {
   "cell_type": "code",
   "execution_count": 4,
   "id": "7842dd45-ca2b-40e7-9f53-2adc11b80b0a",
   "metadata": {
    "tags": []
   },
   "outputs": [
    {
     "name": "stdout",
     "output_type": "stream",
     "text": [
      "Datei kopiert: C:\\Users\\sgp2333\\Desktop\\Skript\\6F01005 (13).ER2\n",
      "Datei kopiert: C:\\Users\\sgp2333\\Desktop\\Skript\\6F01005 (14).ER2\n",
      "Datei kopiert: C:\\Users\\sgp2333\\Desktop\\Skript\\6F01005 (16).ER2\n",
      "Datei kopiert: C:\\Users\\sgp2333\\Desktop\\Skript\\1F01004 (20).ER2\n",
      "Datei kopiert: C:\\Users\\sgp2333\\Desktop\\Skript\\2F01004 (21).ER2\n",
      "Datei kopiert: C:\\Users\\sgp2333\\Desktop\\Skript\\3F01005 (9).ER2\n",
      "Datei kopiert: C:\\Users\\sgp2333\\Desktop\\Skript\\4F01005 (11).ER2\n"
     ]
    }
   ],
   "source": [
    "import os\n",
    "import shutil\n",
    "import re\n",
    "import tkinter as tk\n",
    "from tkinter import simpledialog\n",
    "\n",
    "def main():\n",
    "    # Initialisierung des GUI-Fensters\n",
    "    root = tk.Tk()\n",
    "    root.withdraw()  # Versteckt das Hauptfenster\n",
    "\n",
    "    # Abfrage des Benutzers nach dem Quell- und Ausgabeverzeichnis\n",
    "    source_directory = simpledialog.askstring(\"Input\", \"Eingabe Pfad?\")\n",
    "    output_directory = simpledialog.askstring(\"Input\", \"Ausgabe Pfad?\")\n",
    "\n",
    "    if not source_directory or not output_directory:\n",
    "        print(\"Ungültiger Quell- oder Ausgabepfad.\")\n",
    "        return\n",
    "\n",
    "    source_dir = os.path.abspath(source_directory)\n",
    "    output_dir = os.path.abspath(output_directory)\n",
    "\n",
    "    if not os.path.exists(source_dir) or not os.path.isdir(source_dir):\n",
    "        print(\"Quellverzeichnis existiert nicht oder ist kein Verzeichnis.\")\n",
    "        return\n",
    "\n",
    "    if not os.path.exists(output_dir) or not os.path.isdir(output_dir):\n",
    "        print(\"Ausgabeverzeichnis existiert nicht oder ist kein Verzeichnis.\")\n",
    "        return\n",
    "\n",
    "    copy_filtered_folder_contents(source_dir, output_dir)\n",
    "\n",
    "def copy_filtered_folder_contents(source_dir, output_dir):\n",
    "    for root, dirs, files in os.walk(source_dir):\n",
    "        for file_name in files:\n",
    "            if re.match(r'\\d.*', file_name) and 'STAMM' not in file_name:\n",
    "                source_file = os.path.join(root, file_name)\n",
    "                output_file = os.path.join(output_dir, file_name)\n",
    "                try:\n",
    "                    shutil.copy2(source_file, output_file)\n",
    "                    print(f\"Datei kopiert: {output_file}\")\n",
    "                except IOError as e:\n",
    "                    print(f\"Fehler beim Kopieren der Datei: {e}\")\n",
    "\n",
    "if __name__ == \"__main__\":\n",
    "    main()\n"
   ]
  },
  {
   "cell_type": "code",
   "execution_count": null,
   "id": "ade80a2a-526d-4216-bfc8-36e27008e260",
   "metadata": {},
   "outputs": [],
   "source": []
  }
 ],
 "metadata": {
  "kernelspec": {
   "display_name": "Python 3 (ipykernel)",
   "language": "python",
   "name": "python3"
  },
  "language_info": {
   "codemirror_mode": {
    "name": "ipython",
    "version": 3
   },
   "file_extension": ".py",
   "mimetype": "text/x-python",
   "name": "python",
   "nbconvert_exporter": "python",
   "pygments_lexer": "ipython3",
   "version": "3.11.4"
  }
 },
 "nbformat": 4,
 "nbformat_minor": 5
}
