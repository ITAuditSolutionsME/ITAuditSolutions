{
 "cells": [
  {
   "cell_type": "markdown",
   "id": "a3c532fe-b0ff-4eff-b365-2ddd8c28a5b2",
   "metadata": {},
   "source": [
    "# Kopfzeile aus txt/csv Dateien löschen"
   ]
  },
  {
   "cell_type": "markdown",
   "id": "b26569ba-3289-433e-a44b-2140f0052706",
   "metadata": {},
   "source": [
    "### Funktion\n",
    "#### -  Löscht die kopfzeile, oder beliebig viele Zeilen (von oben zählend) aus txt oder csv Dateien\n",
    "#### - Pfad kann entweder auf eine Datei verweisen dann wird nur diese bearbeitet, oder auf einen Ordner in welchem Fall alle Dateien die sich darin befindet bearbeitet werden"
   ]
  },
  {
   "cell_type": "markdown",
   "id": "f950c794-c7f9-44e7-8f31-a5d381b39f93",
   "metadata": {},
   "source": [
    "### UseCase\n",
    "#### Wenn man Dateien hat welche, bspw. in IDEA eingelesen werden müssen, aber eine störende Kopfzeile enthalten können diese mit folgendem Skirpt entfernt werden."
   ]
  },
  {
   "cell_type": "code",
   "execution_count": 1,
   "id": "6a46f5d9-77f8-431c-b129-24ea3d899a31",
   "metadata": {},
   "outputs": [],
   "source": [
    "import os\n",
    "from tkinter import Tk, simpledialog, messagebox\n",
    "\n",
    "def remove_header_from_file(file_path, messages):\n",
    "    try:\n",
    "        with open(file_path, 'r', encoding='utf-8') as file:\n",
    "            lines = file.readlines()\n",
    "\n",
    "        # Kopfzeile entfernen (erste Zeile)\n",
    "        lines_without_header = lines[amt_ignored_int:]\n",
    "\n",
    "        # Datei ohne Kopfzeile überschreiben\n",
    "        with open(file_path, 'w', encoding='utf-8') as output_file:\n",
    "            output_file.writelines(lines_without_header)\n",
    "\n",
    "        messages.append(f\"Erfolg: Kopfzeile von '{file_path}' wurde entfernt.\")\n",
    "    \n",
    "    except Exception as e:\n",
    "        messages.append(f\"Fehler: Ein Fehler ist bei '{file_path}' aufgetreten: {e}\")\n",
    "\n",
    "def remove_header_from_files(input_path):\n",
    "    messages = []\n",
    "    \n",
    "    # Überprüfen, ob der Pfad zu einem Ordner oder zu einer Datei führt\n",
    "    if os.path.isdir(input_path):\n",
    "        # Alle Dateien im Ordner durchsuchen\n",
    "        for filename in os.listdir(input_path):\n",
    "            file_path = os.path.join(input_path, filename)\n",
    "            if os.path.isfile(file_path):\n",
    "                remove_header_from_file(file_path, messages)\n",
    "    elif os.path.isfile(input_path):\n",
    "        # Es handelt sich um eine einzelne Datei\n",
    "        remove_header_from_file(input_path, messages)\n",
    "    else:\n",
    "        messages.append(f\"Fehler: Der Pfad '{input_path}' ist weder eine Datei noch ein Ordner.\")\n",
    "    \n",
    "    # Alle gesammelten Nachrichten in einer Dialogbox anzeigen\n",
    "    if messages:\n",
    "        messagebox.showinfo(\"Ergebnisse\", \"\\n\".join(messages))\n",
    "\n",
    "if __name__ == \"__main__\":\n",
    "    # Initialisiere das Tkinter-Fenster\n",
    "    root = Tk()\n",
    "    root.withdraw()  # Das Tkinter-Fenster ausblenden\n",
    "\n",
    "    # Eingabedialog für den Ordnerpfad oder Dateipfad\n",
    "    input_path = simpledialog.askstring(\"Input\", \"Bitte geben Sie den Pfad zu einer Datei oder einem Ordner an: \")\n",
    "    amt_ignored = simpledialog.askstring(\"Input\", \"Wie viele Zeilen sollen gelöscht werden: \")\n",
    "    amt_ignored_int = int(amt_ignored)\n",
    "\n",
    "    if input_path:\n",
    "        remove_header_from_files(input_path)\n",
    "    else:\n",
    "        messagebox.showwarning(\"Warnung\", \"Kein Pfad angegeben.\")\n"
   ]
  },
  {
   "cell_type": "code",
   "execution_count": null,
   "id": "1f4726a4-6ad2-4150-90d8-042b62ff3df1",
   "metadata": {},
   "outputs": [],
   "source": []
  }
 ],
 "metadata": {
  "kernelspec": {
   "display_name": "Python 3 (ipykernel)",
   "language": "python",
   "name": "python3"
  },
  "language_info": {
   "codemirror_mode": {
    "name": "ipython",
    "version": 3
   },
   "file_extension": ".py",
   "mimetype": "text/x-python",
   "name": "python",
   "nbconvert_exporter": "python",
   "pygments_lexer": "ipython3",
   "version": "3.11.4"
  }
 },
 "nbformat": 4,
 "nbformat_minor": 5
}
