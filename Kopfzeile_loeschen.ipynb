{
 "cells": [
  {
   "cell_type": "markdown",
   "id": "a3c532fe-b0ff-4eff-b365-2ddd8c28a5b2",
   "metadata": {},
   "source": [
    "# Kopfzeile aus txt/csv Datein löschen"
   ]
  },
  {
   "cell_type": "markdown",
   "id": "b26569ba-3289-433e-a44b-2140f0052706",
   "metadata": {},
   "source": [
    "### Funktion\n",
    "#### -  Löscht die kopfzeile aus txt oder csv Datein\n",
    "#### - Pfad kann entweder auf eine Datei verweisen dann wird nur diese bearbeitet, oder auf einen Ordner in welchem Fall alle Datein die sich darin befindet bearbeitet werden"
   ]
  },
  {
   "cell_type": "markdown",
   "id": "f950c794-c7f9-44e7-8f31-a5d381b39f93",
   "metadata": {},
   "source": [
    "### UseCase\n",
    "#### Wenn man Datein hat welche, bspw. in IDEA eingelesen werden müssen eine störende Kopfzeile enthalten, können diese mit folgendem Skirpt entfernt werden."
   ]
  },
  {
   "cell_type": "code",
   "execution_count": 6,
   "id": "6a46f5d9-77f8-431c-b129-24ea3d899a31",
   "metadata": {},
   "outputs": [
    {
     "name": "stdout",
     "output_type": "stream",
     "text": [
      "Kopfzeile von 'C:\\Users\\sgp2333\\Desktop\\Skript\\Mappe1 - Kopie (2).csv' wurde entfernt.\n",
      "Kopfzeile von 'C:\\Users\\sgp2333\\Desktop\\Skript\\Mappe1 - Kopie (3).csv' wurde entfernt.\n",
      "Kopfzeile von 'C:\\Users\\sgp2333\\Desktop\\Skript\\Mappe1 - Kopie.csv' wurde entfernt.\n",
      "Kopfzeile von 'C:\\Users\\sgp2333\\Desktop\\Skript\\Mappe1.csv' wurde entfernt.\n"
     ]
    }
   ],
   "source": [
    "import os\n",
    "from tkinter import Tk, simpledialog\n",
    "\n",
    "def remove_header_from_file(file_path):\n",
    "    try:\n",
    "        with open(file_path, 'r', encoding='utf-8') as file:\n",
    "            lines = file.readlines()\n",
    "\n",
    "        # Kopfzeile entfernen (erste Zeile)\n",
    "        lines_without_header = lines[1:]\n",
    "\n",
    "        # Datei ohne Kopfzeile überschreiben\n",
    "        with open(file_path, 'w', encoding='utf-8') as output_file:\n",
    "            output_file.writelines(lines_without_header)\n",
    "\n",
    "        print(f\"Kopfzeile von '{file_path}' wurde entfernt.\")\n",
    "    \n",
    "    except Exception as e:\n",
    "        print(f\"Ein Fehler ist bei '{file_path}' aufgetreten: {e}\")\n",
    "\n",
    "def remove_header_from_files(input_path):\n",
    "    # Überprüfen, ob der Pfad zu einem Ordner oder zu einer Datei führt\n",
    "    if os.path.isdir(input_path):\n",
    "        # Alle Dateien im Ordner durchsuchen\n",
    "        for filename in os.listdir(input_path):\n",
    "            file_path = os.path.join(input_path, filename)\n",
    "            if os.path.isfile(file_path):\n",
    "                remove_header_from_file(file_path)\n",
    "    elif os.path.isfile(input_path):\n",
    "        # Es handelt sich um eine einzelne Datei\n",
    "        remove_header_from_file(input_path)\n",
    "    else:\n",
    "        print(f\"Der Pfad '{input_path}' ist weder eine Datei noch ein Ordner.\")\n",
    "\n",
    "if __name__ == \"__main__\":\n",
    "    # Initialisiere das Tkinter-Fenster\n",
    "    root = Tk()\n",
    "    root.withdraw()  # Das Tkinter-Fenster ausblenden\n",
    "\n",
    "    # Eingabedialog für den Ordnerpfad oder Dateipfad\n",
    "    input_path = simpledialog.askstring(\"Input\", \"Bitte geben Sie den Pfad zu einer Datei oder einem Ordner an:\")\n",
    "\n",
    "    if input_path:\n",
    "        remove_header_from_files(input_path)\n",
    "    else:\n",
    "        print(\"Kein Pfad angegeben.\")\n"
   ]
  },
  {
   "cell_type": "code",
   "execution_count": null,
   "id": "1f4726a4-6ad2-4150-90d8-042b62ff3df1",
   "metadata": {},
   "outputs": [],
   "source": []
  }
 ],
 "metadata": {
  "kernelspec": {
   "display_name": "Python 3 (ipykernel)",
   "language": "python",
   "name": "python3"
  },
  "language_info": {
   "codemirror_mode": {
    "name": "ipython",
    "version": 3
   },
   "file_extension": ".py",
   "mimetype": "text/x-python",
   "name": "python",
   "nbconvert_exporter": "python",
   "pygments_lexer": "ipython3",
   "version": "3.11.4"
  }
 },
 "nbformat": 4,
 "nbformat_minor": 5
}
