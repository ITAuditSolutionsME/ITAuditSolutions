{
 "cells": [
  {
   "cell_type": "code",
   "execution_count": 2,
   "id": "6a46f5d9-77f8-431c-b129-24ea3d899a31",
   "metadata": {},
   "outputs": [
    {
     "name": "stdout",
     "output_type": "stream",
     "text": [
      "Kopfzeile von 'Mappe1.csv' wurde entfernt.\n"
     ]
    }
   ],
   "source": [
    "import os\n",
    "from tkinter import Tk, simpledialog\n",
    "\n",
    "def remove_header_from_files(input_folder_path):\n",
    "    # Alle Dateien im Ordner durchsuchen\n",
    "    for filename in os.listdir(input_folder_path):\n",
    "        file_path = os.path.join(input_folder_path, filename)\n",
    "        \n",
    "        # Überprüfen, ob es sich um eine Datei handelt\n",
    "        if os.path.isfile(file_path):\n",
    "            try:\n",
    "                with open(file_path, 'r', encoding='utf-8') as file:\n",
    "                    lines = file.readlines()\n",
    "\n",
    "                # Kopfzeile entfernen (erste Zeile)\n",
    "                lines_without_header = lines[1:]\n",
    "\n",
    "                # Datei ohne Kopfzeile überschreiben\n",
    "                with open(file_path, 'w', encoding='utf-8') as output_file:\n",
    "                    output_file.writelines(lines_without_header)\n",
    "\n",
    "                print(f\"Kopfzeile von '{filename}' wurde entfernt.\")\n",
    "            \n",
    "            except Exception as e:\n",
    "                print(f\"Ein Fehler ist bei '{filename}' aufgetreten: {e}\")\n",
    "\n",
    "if __name__ == \"__main__\":\n",
    "    # Initialisiere das Tkinter-Fenster\n",
    "    root = Tk()\n",
    "    root.withdraw()  # Das Tkinter-Fenster ausblenden\n",
    "\n",
    "    # Eingabedialog für den Ordnerpfad\n",
    "    input_folder_path = simpledialog.askstring(\"Input\", \"Bitte geben Sie den Pfad an, in dem sich die Dateien befinden, die zusammengefasst werden sollen. Bspw. C:/Benutzer/DeinBenutzername/Dokumente/Zielordner/\")\n",
    "\n",
    "    if input_folder_path:\n",
    "        remove_header_from_files(input_folder_path)\n",
    "    else:\n",
    "        print(\"Kein Pfad angegeben.\")\n"
   ]
  },
  {
   "cell_type": "code",
   "execution_count": null,
   "id": "1f4726a4-6ad2-4150-90d8-042b62ff3df1",
   "metadata": {},
   "outputs": [],
   "source": []
  }
 ],
 "metadata": {
  "kernelspec": {
   "display_name": "Python 3 (ipykernel)",
   "language": "python",
   "name": "python3"
  },
  "language_info": {
   "codemirror_mode": {
    "name": "ipython",
    "version": 3
   },
   "file_extension": ".py",
   "mimetype": "text/x-python",
   "name": "python",
   "nbconvert_exporter": "python",
   "pygments_lexer": "ipython3",
   "version": "3.11.4"
  }
 },
 "nbformat": 4,
 "nbformat_minor": 5
}
