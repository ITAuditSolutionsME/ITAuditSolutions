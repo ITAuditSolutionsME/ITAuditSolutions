{
 "cells": [
  {
   "cell_type": "markdown",
   "id": "d211784f-7690-4b92-95c2-54300fc5886d",
   "metadata": {},
   "source": [
    "# Gewisse Dateien zusammenfassen"
   ]
  },
  {
   "cell_type": "markdown",
   "id": "c2253184-e351-4a3c-9a9d-e985eaf043c9",
   "metadata": {},
   "source": [
    "# Funktion\n",
    "#### - Es werden Datein in einem gegebenen Verzeichnis, mit identischer Dateinamenendung zusammengefasst"
   ]
  },
  {
   "cell_type": "markdown",
   "id": "e3b78670-f24f-4912-9e4c-2ea634851d63",
   "metadata": {},
   "source": [
    "# UseCase\n",
    "#### - Wenn z.B. mehrere Excel Datein vorhanden sind welche zusammengefasst werden müssen, aber sich noch andere Datein ebenfalls in dem Verzeichnis befinden werden nur die Excel Datein zusammengefasst."
   ]
  },
  {
   "cell_type": "code",
   "execution_count": null,
   "id": "02324449-15b2-413b-947b-04d06988675a",
   "metadata": {},
   "outputs": [],
   "source": [
    "import os\n",
    "import shutil\n",
    "import tkinter as tk\n",
    "from tkinter import simpledialog\n",
    "\n",
    "def search_and_concat_files(source_dir, target_dir, file_extension):\n",
    "    # Dictionary to store file paths by their names\n",
    "    files_dict = {}\n",
    "\n",
    "    # Walk through the directory\n",
    "    for root, _, files in os.walk(source_dir):\n",
    "        for file in files:\n",
    "            # If file_extension is provided, filter by the extension\n",
    "            if file_extension and not file.endswith(file_extension):\n",
    "                continue\n",
    "\n",
    "            file_path = os.path.join(root, file)\n",
    "            if file in files_dict:\n",
    "                files_dict[file].append(file_path)\n",
    "            else:\n",
    "                files_dict[file] = [file_path]\n",
    "\n",
    "    # Concatenate files with the same name\n",
    "    for file_name, file_paths in files_dict.items():\n",
    "        with open(os.path.join(target_dir, file_name), 'wb') as target_file:\n",
    "            for file_path in file_paths:\n",
    "                with open(file_path, 'rb') as source_file:\n",
    "                    shutil.copyfileobj(source_file, target_file)\n",
    "\n",
    "def main():\n",
    "    root = tk.Tk()\n",
    "    root.withdraw()  # Hide the main window\n",
    "\n",
    "    # Get the source directory from the user\n",
    "    source_dir = simpledialog.askstring(\"Input\", \"Geben Sie das zu durchsuchende Verzeichnis ein: \")\n",
    "    if not source_dir or not os.path.isdir(source_dir):\n",
    "        print(\"Ungültiges Quellverzeichnis.\")\n",
    "        return\n",
    "\n",
    "    # Get the target directory from the user\n",
    "    target_dir = simpledialog.askstring(\"Input\", \"Geben Sie das Zielverzeichnis für die zusammengefügten Dateien ein: \")\n",
    "    if not target_dir or not os.path.isdir(target_dir):\n",
    "        print(\"Ungültiges Zielverzeichnis.\")\n",
    "        return\n",
    "\n",
    "    # Get the file extension from the user\n",
    "    file_extension = simpledialog.askstring(\"Input\", \"Geben Sie die Dateiendung ein, um die Dateien zu filtern (z.B. .csv). Lassen Sie das Feld leer, um alle Dateien zu berücksichtigen:\")\n",
    "\n",
    "    search_and_concat_files(source_dir, target_dir, file_extension)\n",
    "    print(\"Dateien wurden erfolgreich zusammengeführt.\")\n",
    "\n",
    "if __name__ == \"__main__\":\n",
    "    main()\n"
   ]
  }
 ],
 "metadata": {
  "kernelspec": {
   "display_name": "Python 3 (ipykernel)",
   "language": "python",
   "name": "python3"
  },
  "language_info": {
   "codemirror_mode": {
    "name": "ipython",
    "version": 3
   },
   "file_extension": ".py",
   "mimetype": "text/x-python",
   "name": "python",
   "nbconvert_exporter": "python",
   "pygments_lexer": "ipython3",
   "version": "3.11.4"
  }
 },
 "nbformat": 4,
 "nbformat_minor": 5
}
