{
 "cells": [
  {
   "cell_type": "markdown",
   "id": "47f2f889-55c9-45eb-8191-4f77a4d0483c",
   "metadata": {},
   "source": [
    "# Datei in mehrere Dateien trennen"
   ]
  },
  {
   "cell_type": "markdown",
   "id": "b0432116-7996-499f-a679-60d5fb04564b",
   "metadata": {},
   "source": [
    "### Funktion:\n",
    "#### - Die Datei enthält beispielsweise drei Arten von Spalten, die mit F, G und K beginnen.\n",
    "#### - Für diese Datei werden drei neue Dateien erstellt, die jeweils nur die Spalten mit F, G bzw. K enthalten.\n",
    "#### - Die Originaldatei bleibt unverändert."
   ]
  },
  {
   "cell_type": "markdown",
   "id": "602b1c5a-8477-4e08-8344-5e6960ef55b0",
   "metadata": {},
   "source": [
    "### UseCase:\n",
    "#### Da die Brabender-Daten, in diesem speziellen Fall die FIBEWE-Dateien, inhomogen verschickt werden, trennt dieses Programm die Zeilen, die mit F, K, G und G mit Ust. oder Vst. beginnen. Anschließend schreibt es diese Zeilen in vier neu erstellte Dateien, die den Namen der Quelldatei und ein Kennzeichen für ihren Inhalt enthalten. Dies soll die spätere Analyse vereinfachen. Zusätzlich werden die Zeilen mit einer ID versehen, sodass ganze Buchungen auch während der Analyse nachvollzogen werden können."
   ]
  },
  {
   "cell_type": "code",
   "execution_count": 3,
   "id": "f66f78fa-f3b6-42f2-a345-f3cf54f65c94",
   "metadata": {
    "tags": []
   },
   "outputs": [
    {
     "name": "stdout",
     "output_type": "stream",
     "text": [
      "Verarbeitung der Dateien im Ordner abgeschlossen.\n"
     ]
    }
   ],
   "source": [
    "import os\n",
    "import tkinter as tk\n",
    "from tkinter import simpledialog\n",
    "\n",
    "def main():\n",
    "    # Initialisierung des GUI-Fensters\n",
    "    root = tk.Tk()\n",
    "    root.withdraw()  # Versteckt das Hauptfenster\n",
    "\n",
    "    # Eingabe des Pfades des Quell- und Zielordners\n",
    "    source_folder_path = simpledialog.askstring(\"Input\", \"Was ist der Pfad der Dateien, die bearbeitet werden sollen? Bspw. C:/Benutzer/DeinBenutzername/Dokumente/Zielordner/\")\n",
    "    destination_folder_path = simpledialog.askstring(\"Input\", \"Wo sollen die Dateien mit den separierten Zeilen abgelegt werden? C:/Benutzer/DeinBenutzername/Dokumente/Zielordner/\")\n",
    "\n",
    "    if not source_folder_path or not destination_folder_path:\n",
    "        print(\"Ungültiger Pfad.\")\n",
    "        return\n",
    "\n",
    "    source_folder = os.path.abspath(source_folder_path)\n",
    "    destination_folder = os.path.abspath(destination_folder_path)\n",
    "\n",
    "    if not os.path.isdir(source_folder):\n",
    "        print(\"Quellordner existiert nicht.\")\n",
    "        return\n",
    "\n",
    "    if not os.path.isdir(destination_folder):\n",
    "        os.makedirs(destination_folder)\n",
    "\n",
    "    id_counter = 1\n",
    "\n",
    "    for source_file_name in os.listdir(source_folder):\n",
    "        source_file_path = os.path.join(source_folder, source_file_name)\n",
    "        if os.path.isfile(source_file_path):\n",
    "            try:\n",
    "                lines = read_file_with_fallback(source_file_path)\n",
    "                for line in lines:\n",
    "                    if line:\n",
    "                        first_char = line[0]\n",
    "                        if first_char == 'F':\n",
    "                            write_to_file(destination_folder, source_file_name, \"F\", f\"ID:{id_counter};{line.strip()}\")\n",
    "                            id_counter += 1\n",
    "                        elif first_char == 'K':\n",
    "                            write_to_file(destination_folder, source_file_name, \"K\", f\"ID:{id_counter - 1};{line.strip()}\")\n",
    "                        elif first_char == 'G' and (\"Ust.\" in line or \"Vst.\" in line):\n",
    "                            write_to_file(destination_folder, source_file_name, \"Steuerart\", f\"ID:{id_counter - 1};G2;{line.strip()}\")\n",
    "                        else:\n",
    "                            write_to_file(destination_folder, source_file_name, \"G\", f\"ID:{id_counter - 1};{line.strip()}\")\n",
    "            except IOError as e:\n",
    "                print(f\"Fehler beim Verarbeiten der Datei {source_file_path}: {e}\")\n",
    "\n",
    "    print(\"Verarbeitung der Dateien im Ordner abgeschlossen.\")\n",
    "\n",
    "def read_file_with_fallback(file_path):\n",
    "    encodings = ['utf-8', 'latin-1', 'cp1252']  # Liste der zu versuchenden Codierungen\n",
    "    for encoding in encodings:\n",
    "        try:\n",
    "            with open(file_path, 'r', encoding=encoding) as f:\n",
    "                return f.readlines()\n",
    "        except UnicodeDecodeError:\n",
    "            continue\n",
    "    raise UnicodeDecodeError(f\"Keine der Codierungen konnte die Datei lesen: {file_path}\")\n",
    "\n",
    "def write_to_file(destination_folder, source_file_name, marker, content):\n",
    "    new_file_name = f\"{source_file_name}_{marker}.txt\"\n",
    "    new_file_path = os.path.join(destination_folder, new_file_name)\n",
    "\n",
    "    try:\n",
    "        with open(new_file_path, 'a', encoding='utf-8') as writer:\n",
    "            writer.write(content)\n",
    "            writer.write('\\n')\n",
    "    except IOError as e:\n",
    "        print(f\"Fehler beim Schreiben in die Datei {new_file_path}: {e}\")\n",
    "\n",
    "if __name__ == \"__main__\":\n",
    "    main()\n"
   ]
  },
  {
   "cell_type": "code",
   "execution_count": null,
   "id": "6856f1b1-2643-4083-a73c-b48ecb647e88",
   "metadata": {},
   "outputs": [],
   "source": []
  }
 ],
 "metadata": {
  "kernelspec": {
   "display_name": "Python 3 (ipykernel)",
   "language": "python",
   "name": "python3"
  },
  "language_info": {
   "codemirror_mode": {
    "name": "ipython",
    "version": 3
   },
   "file_extension": ".py",
   "mimetype": "text/x-python",
   "name": "python",
   "nbconvert_exporter": "python",
   "pygments_lexer": "ipython3",
   "version": "3.11.4"
  }
 },
 "nbformat": 4,
 "nbformat_minor": 5
}
