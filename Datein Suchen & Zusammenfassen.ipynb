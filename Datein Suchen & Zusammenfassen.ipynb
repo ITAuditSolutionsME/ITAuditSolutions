{
 "cells": [
  {
   "cell_type": "code",
   "execution_count": 17,
   "id": "b3b041e0-0a32-4e18-8c20-16f1ce65dcd8",
   "metadata": {},
   "outputs": [
    {
     "name": "stdout",
     "output_type": "stream",
     "text": [
      "Suchverzeichnis: Z:\\Arbeitsgruppen\\IT Audit Solutions\\!Mandanten\\Müller\\JAP 2023_2024\\Umsatzrealisierung - Kasse-FiBu\\Mandantendaten\\Stuttgart\n",
      "Ablagepfad: Z:\\Arbeitsgruppen\\IT Audit Solutions\\!Mandanten\\Müller\\JAP 2023_2024\\Umsatzrealisierung - Kasse-FiBu\\Mandantendaten\\Stuttgart\\Bonpos.csv\n",
      "Die Dateien wurden erfolgreich zu Z:\\Arbeitsgruppen\\IT Audit Solutions\\!Mandanten\\Müller\\JAP 2023_2024\\Umsatzrealisierung - Kasse-FiBu\\Mandantendaten\\Stuttgart\\Bonpos.csv zusammengehängt.\n"
     ]
    }
   ],
   "source": [
    "import os\n",
    "import tkinter as tk\n",
    "from tkinter import simpledialog\n",
    "\n",
    "def find_files(directory, filename):\n",
    "    \"\"\"Durchsucht ein Verzeichnis rekursiv nach Dateien mit einem bestimmten Namen.\"\"\"\n",
    "    matching_files = []\n",
    "    for root, dirs, files in os.walk(directory):\n",
    "        for file in files:\n",
    "            if file == filename:\n",
    "                matching_files.append(os.path.join(root, file))\n",
    "    return matching_files\n",
    "\n",
    "def concatenate_files(file_list, output_path):\n",
    "    \"\"\"Hängt Dateien aneinander und speichert sie in einer Ausgabedatei.\"\"\"\n",
    "    try:\n",
    "        with open(output_path, 'wb') as output_file:\n",
    "            for file_path in file_list:\n",
    "                try:\n",
    "                    with open(file_path, 'rb') as input_file:\n",
    "                        output_file.write(input_file.read())\n",
    "                except IOError as e:\n",
    "                    print(f\"Fehler beim Lesen der Datei {file_path}: {e}\")\n",
    "    except IOError as e:\n",
    "        print(f\"Fehler beim Schreiben der Datei {output_path}: {e}\")\n",
    "\n",
    "def main():\n",
    "    # Initialisieren des Tkinter-Fensters\n",
    "    root = tk.Tk()\n",
    "    root.withdraw()  # Versteckt das Tkinter-Hauptfenster\n",
    "\n",
    "    # Eingaben\n",
    "    search_directory = simpledialog.askstring(\"Input\", \"Geben Sie das zu durchsuchende Verzeichnis ein: \")\n",
    "    search_filename = simpledialog.askstring(\"Input\", \"Geben Sie den gesuchten Dateinamen ein: \")\n",
    "    output_directory = simpledialog.askstring(\"Input\", \"Geben Sie den Ablagepfad für die erstellte zusammengehängte Datei ein (ohne Dateinamen): \")\n",
    "    output_file_name = simpledialog.askstring(\"Input\", \"Geben Sie den Dateinamen für die zusammengehängte Datei ein (z.B. 'zusammengefasst.txt'): \")\n",
    "\n",
    "    # Konvertieren der Eingaben zu absoluten Pfaden\n",
    "    search_directory = os.path.abspath(search_directory)\n",
    "    output_directory = os.path.abspath(output_directory)\n",
    "    output_file_path = os.path.join(output_directory, output_file_name)\n",
    "    print(f\"Suchverzeichnis: {search_directory}\")  # Debugging-Ausgabe\n",
    "    print(f\"Ablagepfad: {output_file_path}\")  # Debugging-Ausgabe\n",
    "\n",
    "    if not search_directory or not search_filename or not output_directory or not output_file_name:\n",
    "        print(\"Eine oder mehrere Eingaben sind ungültig.\")\n",
    "        return\n",
    "\n",
    "    if not os.path.isdir(search_directory):\n",
    "        print(\"Das Suchverzeichnis existiert nicht.\")\n",
    "        return\n",
    "\n",
    "    if not os.path.exists(output_directory):\n",
    "        os.makedirs(output_directory)\n",
    "\n",
    "    # Dateien finden\n",
    "    matching_files = find_files(search_directory, search_filename)\n",
    "    \n",
    "    if not matching_files:\n",
    "        print(\"Keine Dateien gefunden, die den Suchkriterien entsprechen.\")\n",
    "        return\n",
    "\n",
    "    # Dateien aneinander hängen\n",
    "    concatenate_files(matching_files, output_file_path)\n",
    "    print(f\"Die Dateien wurden erfolgreich zu {output_file_path} zusammengehängt.\")\n",
    "\n",
    "if __name__ == \"__main__\":\n",
    "    main()\n"
   ]
  },
  {
   "cell_type": "code",
   "execution_count": null,
   "id": "a5b37103-80ed-4385-9cb1-366d99484707",
   "metadata": {},
   "outputs": [],
   "source": []
  },
  {
   "cell_type": "code",
   "execution_count": null,
   "id": "a6a27fc1-44ee-4a50-9e2e-d5ff621ad103",
   "metadata": {},
   "outputs": [],
   "source": []
  }
 ],
 "metadata": {
  "kernelspec": {
   "display_name": "Python 3 (ipykernel)",
   "language": "python",
   "name": "python3"
  },
  "language_info": {
   "codemirror_mode": {
    "name": "ipython",
    "version": 3
   },
   "file_extension": ".py",
   "mimetype": "text/x-python",
   "name": "python",
   "nbconvert_exporter": "python",
   "pygments_lexer": "ipython3",
   "version": "3.11.4"
  }
 },
 "nbformat": 4,
 "nbformat_minor": 5
}
