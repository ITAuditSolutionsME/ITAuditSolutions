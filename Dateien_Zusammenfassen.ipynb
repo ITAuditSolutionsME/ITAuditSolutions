{
 "cells": [
  {
   "cell_type": "code",
   "execution_count": 2,
   "id": "b453ed4f-3de8-4659-a506-ce6f9c1dada4",
   "metadata": {
    "tags": []
   },
   "outputs": [
    {
     "ename": "TypeError",
     "evalue": "int() argument must be a string, a bytes-like object or a real number, not 'NoneType'",
     "output_type": "error",
     "traceback": [
      "\u001b[1;31m---------------------------------------------------------------------------\u001b[0m",
      "\u001b[1;31mTypeError\u001b[0m                                 Traceback (most recent call last)",
      "Cell \u001b[1;32mIn[2], line 74\u001b[0m\n\u001b[0;32m     71\u001b[0m     \u001b[38;5;28;01mraise\u001b[39;00m \u001b[38;5;167;01mUnicodeDecodeError\u001b[39;00m(\u001b[38;5;124mf\u001b[39m\u001b[38;5;124m\"\u001b[39m\u001b[38;5;124mKeine der Codierungen konnte die Datei lesen: \u001b[39m\u001b[38;5;132;01m{\u001b[39;00mfile_path\u001b[38;5;132;01m}\u001b[39;00m\u001b[38;5;124m\"\u001b[39m)\n\u001b[0;32m     73\u001b[0m \u001b[38;5;28;01mif\u001b[39;00m \u001b[38;5;18m__name__\u001b[39m \u001b[38;5;241m==\u001b[39m \u001b[38;5;124m\"\u001b[39m\u001b[38;5;124m__main__\u001b[39m\u001b[38;5;124m\"\u001b[39m:\n\u001b[1;32m---> 74\u001b[0m     main()\n",
      "Cell \u001b[1;32mIn[2], line 16\u001b[0m, in \u001b[0;36mmain\u001b[1;34m()\u001b[0m\n\u001b[0;32m     13\u001b[0m zI \u001b[38;5;241m=\u001b[39m simpledialog\u001b[38;5;241m.\u001b[39maskstring(\u001b[38;5;124m\"\u001b[39m\u001b[38;5;124mInput\u001b[39m\u001b[38;5;124m\"\u001b[39m, \u001b[38;5;124m\"\u001b[39m\u001b[38;5;124mSollen Zeichen am Anfang ignoriert werden, wenn ja wie viele? Sonst 0. Eingabe muss eine Zahl sein\u001b[39m\u001b[38;5;124m\"\u001b[39m)\n\u001b[0;32m     15\u001b[0m \u001b[38;5;28;01mtry\u001b[39;00m:\n\u001b[1;32m---> 16\u001b[0m     zeichen_ignorieren \u001b[38;5;241m=\u001b[39m \u001b[38;5;28mint\u001b[39m(zI)\n\u001b[0;32m     17\u001b[0m \u001b[38;5;28;01mexcept\u001b[39;00m \u001b[38;5;167;01mValueError\u001b[39;00m:\n\u001b[0;32m     18\u001b[0m     \u001b[38;5;28mprint\u001b[39m(\u001b[38;5;124m\"\u001b[39m\u001b[38;5;124mUngültige Eingabe für die Anzahl der zu ignorierenden Zeichen.\u001b[39m\u001b[38;5;124m\"\u001b[39m)\n",
      "\u001b[1;31mTypeError\u001b[0m: int() argument must be a string, a bytes-like object or a real number, not 'NoneType'"
     ]
    }
   ],
   "source": [
    "import os\n",
    "import tkinter as tk\n",
    "from tkinter import simpledialog\n",
    "\n",
    "def main():\n",
    "    # Initialisierung des GUI-Fensters\n",
    "    root = tk.Tk()\n",
    "    root.withdraw()  # Versteckt das Hauptfenster\n",
    "\n",
    "    # Eingabe des Pfades des Eingabe- und Ausgabeordners\n",
    "    # Dialog boxen ausbauen\n",
    "    input_folder_path = simpledialog.askstring(\"Input\", \"Eingabe Pfad?\")\n",
    "    output_folder_path = simpledialog.askstring(\"Input\", \"Ausgabe Pfad?\")\n",
    "    zI = simpledialog.askstring(\"Input\", \"Sollen Zeichen am Anfang ignoriert werden, wenn ja wie viele? Sonst 0. Eingabe muss eine Zahl sein\")\n",
    "\n",
    "    try:\n",
    "        zeichen_ignorieren = int(zI)\n",
    "    except ValueError:\n",
    "        print(\"Ungültige Eingabe für die Anzahl der zu ignorierenden Zeichen.\")\n",
    "        return\n",
    "\n",
    "    if not input_folder_path or not output_folder_path:\n",
    "        print(\"Ungültiger Pfad.\")\n",
    "        return\n",
    "\n",
    "    input_folder = os.path.abspath(input_folder_path)\n",
    "    output_folder = os.path.abspath(output_folder_path)\n",
    "\n",
    "    if not os.path.isdir(input_folder):\n",
    "        print(\"Eingabeordner existiert nicht.\")\n",
    "        return\n",
    "\n",
    "    if not os.path.isdir(output_folder):\n",
    "        os.makedirs(output_folder)\n",
    "\n",
    "    # Map zur Speicherung von Dateinamen und ihren Zeilen\n",
    "    file_lines_map = {}\n",
    "\n",
    "    for file_name in os.listdir(input_folder):\n",
    "        input_file_path = os.path.join(input_folder, file_name)\n",
    "        if os.path.isfile(input_file_path):\n",
    "            file_key = file_name[zeichen_ignorieren:] if len(file_name) > zeichen_ignorieren else file_name\n",
    "            if file_key not in file_lines_map:\n",
    "                file_lines_map[file_key] = []\n",
    "\n",
    "            try:\n",
    "                lines = read_file_with_fallback(input_file_path)\n",
    "                file_lines_map[file_key].extend(lines)\n",
    "            except IOError as e:\n",
    "                print(f\"Fehler beim Lesen der Datei {input_file_path}: {e}\")\n",
    "\n",
    "    # Ausgabe der zusammengefügten Dateien\n",
    "    for file_key, lines in file_lines_map.items():\n",
    "        output_file_path = os.path.join(output_folder, file_key)\n",
    "        try:\n",
    "            with open(output_file_path, 'w', encoding='utf-8') as writer:\n",
    "                for line in lines:\n",
    "                    writer.write(line + '\\n')\n",
    "        except IOError as e:\n",
    "            print(f\"Fehler beim Schreiben der Datei {output_file_path}: {e}\")\n",
    "\n",
    "    print(\"Dateien wurden zusammengefasst.\")\n",
    "\n",
    "def read_file_with_fallback(file_path):\n",
    "    encodings = ['utf-8', 'latin-1', 'cp1252']  # Liste der zu versuchenden Codierungen\n",
    "    for encoding in encodings:\n",
    "        try:\n",
    "            with open(file_path, 'r', encoding=encoding) as f:\n",
    "                return [line.strip() for line in f]\n",
    "        except UnicodeDecodeError:\n",
    "            continue\n",
    "    raise UnicodeDecodeError(f\"Keine der Codierungen konnte die Datei lesen: {file_path}\")\n",
    "\n",
    "if __name__ == \"__main__\":\n",
    "    main()\n"
   ]
  },
  {
   "cell_type": "code",
   "execution_count": null,
   "id": "7ea84442-45f5-4714-9d49-c18ff47adced",
   "metadata": {},
   "outputs": [],
   "source": []
  }
 ],
 "metadata": {
  "kernelspec": {
   "display_name": "Python 3 (ipykernel)",
   "language": "python",
   "name": "python3"
  },
  "language_info": {
   "codemirror_mode": {
    "name": "ipython",
    "version": 3
   },
   "file_extension": ".py",
   "mimetype": "text/x-python",
   "name": "python",
   "nbconvert_exporter": "python",
   "pygments_lexer": "ipython3",
   "version": "3.11.4"
  }
 },
 "nbformat": 4,
 "nbformat_minor": 5
}
