{
 "cells": [
  {
   "cell_type": "markdown",
   "id": "2007cc14-b4b7-456a-b26a-c9c21b2352e6",
   "metadata": {},
   "source": [
    "# Bestimmtes erstes Zeichen eines Dateinamens löschen"
   ]
  },
  {
   "cell_type": "markdown",
   "id": "fc6b70c5-7443-432a-bc0b-dfc6816fdacf",
   "metadata": {},
   "source": [
    "### Funktion:\n",
    "#### - Dateinamen beinhaltet ein führendes Zeichen welches nicht erwünscht ist.\n",
    "#### - Bestimmtes Zeichen wird als Eingabe übergeben und Dateien entsprechend umbenannt."
   ]
  },
  {
   "cell_type": "markdown",
   "id": "c110ce02-e381-40c1-839b-090b7c0a04e2",
   "metadata": {},
   "source": [
    "### UseCase:\n",
    "#### Vom Mandanten erhaltene Dateien haben ein unerwünschtes führendes Zeichen im Dateinamen, das entfernt werden soll. Alle betroffenen Dateien befinden sich im selben Ordner."
   ]
  },
  {
   "cell_type": "code",
   "execution_count": 1,
   "id": "123f6040-7f97-4fb4-bcb3-f41abb0c8e33",
   "metadata": {
    "tags": []
   },
   "outputs": [
    {
     "name": "stdout",
     "output_type": "stream",
     "text": [
      "Datei .F01004 (20).ER2 umbenannt zu F01004 (20).ER2\n",
      "Datei .F01004 (21).ER2 umbenannt zu F01004 (21).ER2\n",
      "Datei .F01005 (11).ER2 umbenannt zu F01005 (11).ER2\n",
      "Datei .F01005 (15).ER2 umbenannt zu F01005 (15).ER2\n",
      "Datei .F01005 (16).ER2 umbenannt zu F01005 (16).ER2\n",
      "Datei .F01005 (17).ER2 umbenannt zu F01005 (17).ER2\n"
     ]
    }
   ],
   "source": [
    "import os\n",
    "import tkinter as tk\n",
    "from tkinter import simpledialog\n",
    "\n",
    "def main():\n",
    "    # Initialisierung des GUI-Fensters\n",
    "    root = tk.Tk()\n",
    "    root.withdraw()  # Versteckt das Hauptfenster\n",
    "\n",
    "    # Abfrage des Benutzers nach dem Dateipfad und dem anfänglichen Zeichen\n",
    "    datei_pfad = simpledialog.askstring(\"Input\", \"Wie lautet der Dateipfad (ohne Anführungszeichen)?\")\n",
    "    eliminieren = simpledialog.askstring(\"Input\", \"Welches Zeichen soll gelöscht werden?\")\n",
    "\n",
    "    # Überprüfen, ob der Dateipfad und das Zeichen gültig sind\n",
    "    if not datei_pfad or not eliminieren:\n",
    "        print(\"Ungültiger Pfad oder Zeichen.\")\n",
    "        return\n",
    "\n",
    "    # Liste aller Dateien im angegebenen Verzeichnis\n",
    "    try:\n",
    "        files = os.listdir(datei_pfad)\n",
    "    except FileNotFoundError:\n",
    "        print(\"Das angegebene Verzeichnis existiert nicht.\")\n",
    "        return\n",
    "\n",
    "    # Durchlaufen aller Dateien im Verzeichnis\n",
    "    for file_name in files:\n",
    "        file_path = os.path.join(datei_pfad, file_name)\n",
    "        # Überprüfen, ob es sich um eine Datei handelt und ob sie mit dem angegebenen Zeichen beginnt\n",
    "        if os.path.isfile(file_path) and file_name.startswith(eliminieren):\n",
    "            new_name = file_name[len(eliminieren):]\n",
    "            new_path = os.path.join(datei_pfad, new_name)\n",
    "            try:\n",
    "                # Umbenennen der Datei\n",
    "                os.rename(file_path, new_path)\n",
    "                print(f\"Datei {file_name} umbenannt zu {new_name}\")\n",
    "            except OSError:\n",
    "                print(f\"Fehler beim Umbenennen der Datei {file_name}\")\n",
    "\n",
    "if __name__ == \"__main__\":\n",
    "    main()\n"
   ]
  },
  {
   "cell_type": "code",
   "execution_count": null,
   "id": "44ceaca1-20e5-4879-9462-90ff21bb2daf",
   "metadata": {},
   "outputs": [],
   "source": []
  }
 ],
 "metadata": {
  "kernelspec": {
   "display_name": "Python 3 (ipykernel)",
   "language": "python",
   "name": "python3"
  },
  "language_info": {
   "codemirror_mode": {
    "name": "ipython",
    "version": 3
   },
   "file_extension": ".py",
   "mimetype": "text/x-python",
   "name": "python",
   "nbconvert_exporter": "python",
   "pygments_lexer": "ipython3",
   "version": "3.11.4"
  }
 },
 "nbformat": 4,
 "nbformat_minor": 5
}
