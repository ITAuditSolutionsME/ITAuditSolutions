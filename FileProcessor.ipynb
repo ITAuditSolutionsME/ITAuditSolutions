{
 "cells": [
  {
   "cell_type": "markdown",
   "id": "24c0e5bc-448e-4b9f-bd55-8739ff332be4",
   "metadata": {},
   "source": [
    "# Nur Spalten mit einem bestimmten Anfang behalten, Rest löschen."
   ]
  },
  {
   "cell_type": "markdown",
   "id": "331d0b36-e94d-4176-83b5-b4c496735743",
   "metadata": {},
   "source": [
    "### Funktion: \n",
    "#### - Beibehaltung der Spalten mit einem bestimmten, vorgegebenen Anfang.\n",
    "#### - Entfernen der Spalten, die einen anderen Anfang haben."
   ]
  },
  {
   "cell_type": "markdown",
   "id": "b167899e-4c16-4afc-84cc-ef2972bc4150",
   "metadata": {},
   "source": [
    "### UseCase: \n",
    "#### Vom Mandanten erhaltene Dateien enthalten oft Spalten, die für die weitere Verarbeitung irrelevant oder störend sind. Mit diesem Programm können solche Spalten aus den Dateien im angegebenen Ordner entfernt werden. Spalten mit einem bestimmten, vorgegebenen Anfang werden beibehalten."
   ]
  },
  {
   "cell_type": "code",
   "execution_count": 1,
   "id": "11d02464-2139-456b-8711-6ebc01f832c2",
   "metadata": {
    "tags": []
   },
   "outputs": [
    {
     "name": "stdout",
     "output_type": "stream",
     "text": [
      "Verarbeitet: F01004 (10).ER2\n",
      "Verarbeitet: F01004 (11).ER2\n",
      "Verarbeitet: F01004 (13).ER2\n",
      "Verarbeitet: F01004 (14).ER2\n",
      "Verarbeitet: F01004 (15).ER2\n",
      "Verarbeitet: F01004 (16).ER2\n",
      "Verarbeitet: F01004 (17).ER2\n",
      "Verarbeitet: F01004 (18).ER2\n",
      "Verarbeitet: F01004 (19).ER2\n",
      "Verarbeitet: F01004 (20).ER2\n",
      "Verarbeitet: F01004 (21).ER2\n",
      "Verarbeitet: F01004 (9).ER2\n",
      "Verarbeitet: F01005 (11).ER2\n",
      "Verarbeitet: F01005 (12).ER2\n",
      "Verarbeitet: F01005 (13).ER2\n",
      "Verarbeitet: F01005 (14).ER2\n",
      "Verarbeitet: F01005 (15).ER2\n",
      "Verarbeitet: F01005 (16).ER2\n",
      "Verarbeitet: F01005 (17).ER2\n",
      "Verarbeitet: F01005 (18).ER2\n",
      "Verarbeitet: F01005 (19).ER2\n",
      "Verarbeitet: F01005 (20).ER2\n",
      "Verarbeitet: F01005 (21).ER2\n",
      "Verarbeitet: F01005 (9).ER2\n",
      "Verarbeitet: F01006 (10).ER2\n",
      "Verarbeitet: F01006 (11).ER2\n",
      "Verarbeitet: F01006 (12).ER2\n",
      "Verarbeitet: F01006 (9).ER2\n",
      "Verarbeitung der Dateien im Ordner abgeschlossen.\n"
     ]
    }
   ],
   "source": [
    "import os\n",
    "import tkinter as tk\n",
    "from tkinter import simpledialog\n",
    "import chardet\n",
    "\n",
    "def main():\n",
    "    # Initialisierung des GUI-Fensters\n",
    "    root = tk.Tk()\n",
    "    root.withdraw()  # Versteckt das Hauptfenster\n",
    "\n",
    "    # Eingabe des Anfangswertes der Zeilen, die behalten werden sollen\n",
    "    was_behalten = simpledialog.askstring(\"Input\", \"Zeilen mit welchem Anfang sollen behalten werden?\")\n",
    "    if not was_behalten or len(was_behalten) != 1:\n",
    "        print(\"Ungültiger Anfangswert. Bitte geben Sie einen einzelnen Buchstaben ein.\")\n",
    "        return\n",
    "\n",
    "    # Eingabe des Pfades des Ordners, in dem die zu bearbeitenden Dateien liegen\n",
    "    folder_path = simpledialog.askstring(\"Input\", \"Was ist der Pfad, in dem sich die Dateien befinden, die bearbeitet werden sollen? Bspw. C:/Benutzer/DeinBenutzername/Dokumente/Zielordner/\")\n",
    "    if not folder_path:\n",
    "        print(\"Ungültiger Pfad.\")\n",
    "        return\n",
    "\n",
    "    # Überprüfen, ob das Verzeichnis existiert\n",
    "    if not os.path.isdir(folder_path):\n",
    "        print(\"Gegebener Pfad ist nicht existent.\")\n",
    "        return\n",
    "\n",
    "    # Dateien im Verzeichnis auflisten\n",
    "    files = os.listdir(folder_path)\n",
    "    if not files:\n",
    "        print(\"Keine Dateien im Verzeichnis gefunden.\")\n",
    "        return\n",
    "\n",
    "    # Wenn Dateien im Ordner vorhanden, dann verarbeite diese\n",
    "    for file_name in files:\n",
    "        file_path = os.path.join(folder_path, file_name)\n",
    "        if os.path.isfile(file_path):\n",
    "            process_file(file_path, was_behalten)\n",
    "\n",
    "    print(\"Verarbeitung der Dateien im Ordner abgeschlossen.\")\n",
    "\n",
    "def detect_encoding(file_path):\n",
    "    with open(file_path, 'rb') as f:\n",
    "        result = chardet.detect(f.read())\n",
    "    return result['encoding']\n",
    "\n",
    "def process_file(file_path, was_behalten):\n",
    "    encoding = detect_encoding(file_path)\n",
    "    \n",
    "    try:\n",
    "        # Liste mit allen der zu behaltenden Zeilen\n",
    "        lines_to_keep = []\n",
    "        with open(file_path, 'r', encoding=encoding) as reader:\n",
    "            for line in reader:\n",
    "                if line.startswith(was_behalten):\n",
    "                    lines_to_keep.append(line.strip())\n",
    "\n",
    "        # Die Liste mit den richtigen Zeilen wieder in die Datei schreiben\n",
    "        with open(file_path, 'w', encoding=encoding) as writer:\n",
    "            for line_to_keep in lines_to_keep:\n",
    "                writer.write(line_to_keep + '\\n')\n",
    "\n",
    "        print(f\"Verarbeitet: {os.path.basename(file_path)}\")\n",
    "\n",
    "    except (IOError, UnicodeDecodeError) as e:\n",
    "        print(f\"Fehler beim Verarbeiten der Datei: {e}\")\n",
    "\n",
    "if __name__ == \"__main__\":\n",
    "    main()\n"
   ]
  },
  {
   "cell_type": "code",
   "execution_count": null,
   "id": "c161046f-3441-4146-86ef-d0185f7a6c2c",
   "metadata": {},
   "outputs": [],
   "source": []
  }
 ],
 "metadata": {
  "kernelspec": {
   "display_name": "Python 3 (ipykernel)",
   "language": "python",
   "name": "python3"
  },
  "language_info": {
   "codemirror_mode": {
    "name": "ipython",
    "version": 3
   },
   "file_extension": ".py",
   "mimetype": "text/x-python",
   "name": "python",
   "nbconvert_exporter": "python",
   "pygments_lexer": "ipython3",
   "version": "3.11.4"
  }
 },
 "nbformat": 4,
 "nbformat_minor": 5
}
